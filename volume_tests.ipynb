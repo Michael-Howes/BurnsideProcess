{
 "cells": [
  {
   "cell_type": "code",
   "execution_count": 1,
   "metadata": {},
   "outputs": [
    {
     "data": {
      "text/plain": [
       "TaskLocalRNG()"
      ]
     },
     "metadata": {},
     "output_type": "display_data"
    }
   ],
   "source": [
    "include(\"contingency_tables.jl\")\n",
    "using ProgressMeter\n",
    "Random.seed!(2025)"
   ]
  },
  {
   "cell_type": "code",
   "execution_count": 2,
   "metadata": {},
   "outputs": [
    {
     "data": {
      "text/plain": [
       "5×4 Matrix{Int64}:\n",
       " 2161  3577  2184  1636\n",
       " 2755  5081  2222  1052\n",
       "  936  1753   640   306\n",
       "  225   419    96    38\n",
       "   39    98    31    14"
      ]
     },
     "metadata": {},
     "output_type": "display_data"
    }
   ],
   "source": [
    "T1 = [68   20    15     5;\n",
    "    119   84    54    29;\n",
    "    26   17    14    14;\n",
    "    7   94    10    16]\n",
    "\n",
    "T2 = [2161 3577 2184 1636;\n",
    "    2755 5081 2222 1052;\n",
    "    936 1753 640 306;\n",
    "    225 419 96 38;\n",
    "    39 98 31 14]"
   ]
  },
  {
   "cell_type": "code",
   "execution_count": null,
   "metadata": {},
   "outputs": [
    {
     "name": "stdout",
     "output_type": "stream",
     "text": [
      "Run 1 of 5\n"
     ]
    },
    {
     "name": "stderr",
     "output_type": "stream",
     "text": [
      "\u001b[32mProgress:  51%|█████████████████████                    |  ETA: 0:06:33\u001b[39m\u001b[K9\u001b[39m\u001b[K\u001b[K\u001b[K\u001b[K\u001b[K\u001b[K\u001b[K\u001b[K\u001b[K\u001b[K\u001b[K\u001b[K"
     ]
    }
   ],
   "source": [
    "samples = 2*10^6\n",
    "burn_in = 10^4\n",
    "chains = 5\n",
    "\n",
    "stats1 = zeros(Real, chains, samples+burn_in)\n",
    "for c in 1:chains\n",
    "    println(\"Run \", c, \" of \", chains)\n",
    "    stats1[c,:] = lumped_burnside_feature(chi_sq_stat, T1, samples+burn_in)\n",
    "end"
   ]
  },
  {
   "cell_type": "code",
   "execution_count": null,
   "metadata": {},
   "outputs": [],
   "source": [
    "chi_sq = chi_sq_stat(T1)\n",
    "means_1 = sum(stats1[:,burn_in:(burn_in+samples)] .< chi_sq, dims = 2)/samples \n",
    "println(means_1)\n",
    "med_1 = median(means_1)\n",
    "println(med_1)"
   ]
  },
  {
   "cell_type": "code",
   "execution_count": null,
   "metadata": {},
   "outputs": [],
   "source": [
    "samples = 2*10^6\n",
    "burn_in = 10^4\n",
    "chains = 5\n",
    "\n",
    "stats2 = zeros(Real, chains, samples+burn_in)\n",
    "@showprogress for c in 1:chains\n",
    "    stats2[c,:] = lumped_burnside_feature(T2, chi_sq_stat, samples+burn_in)\n",
    "end"
   ]
  },
  {
   "cell_type": "code",
   "execution_count": null,
   "metadata": {},
   "outputs": [],
   "source": [
    "chi_sq2 = chi_sq_stat(T2)\n",
    "means_2 = sum(stats2[:,burn_in:(burn_in+samples)] .< chi_sq2, dims = 2)/samples\n",
    "println(means_2)\n",
    "med_2 = median(means_2) \n",
    "println(med_2)"
   ]
  }
 ],
 "metadata": {
  "kernelspec": {
   "display_name": "Julia 1.9.2",
   "language": "julia",
   "name": "julia-1.9"
  },
  "language_info": {
   "file_extension": ".jl",
   "mimetype": "application/julia",
   "name": "julia",
   "version": "1.9.2"
  }
 },
 "nbformat": 4,
 "nbformat_minor": 2
}

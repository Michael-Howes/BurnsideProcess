{
 "cells": [
  {
   "cell_type": "code",
   "execution_count": 1,
   "metadata": {},
   "outputs": [
    {
     "data": {
      "text/plain": [
       "TaskLocalRNG()"
      ]
     },
     "metadata": {},
     "output_type": "display_data"
    }
   ],
   "source": [
    "include(\"../contingency_tables.jl\")\n",
    "using ProgressMeter\n",
    "Random.seed!(2025)"
   ]
  },
  {
   "cell_type": "code",
   "execution_count": 2,
   "metadata": {},
   "outputs": [
    {
     "data": {
      "text/plain": [
       "5×4 Matrix{Int64}:\n",
       " 2161  3577  2184  1636\n",
       " 2755  5081  2222  1052\n",
       "  936  1753   640   306\n",
       "  225   419    96    38\n",
       "   39    98    31    14"
      ]
     },
     "metadata": {},
     "output_type": "display_data"
    }
   ],
   "source": [
    "T1 = [68   20    15     5;\n",
    "    119   84    54    29;\n",
    "    26   17    14    14;\n",
    "    7   94    10    16]\n",
    "\n",
    "T2 = [2161 3577 2184 1636;\n",
    "    2755 5081 2222 1052;\n",
    "    936 1753 640 306;\n",
    "    225 419 96 38;\n",
    "    39 98 31 14]"
   ]
  },
  {
   "cell_type": "code",
   "execution_count": 3,
   "metadata": {},
   "outputs": [
    {
     "name": "stdout",
     "output_type": "stream",
     "text": [
      "Run 1 of 5\n",
      "Run 2 of 5\n",
      "Run 3 of 5\n",
      "Run 4 of 5\n",
      "Run 5 of 5\n"
     ]
    }
   ],
   "source": [
    "samples = 2*10^6\n",
    "burn_in = 10^4\n",
    "chains = 5 \n",
    "chi_sq_1 = chi_sq_stat(T1)\n",
    "\n",
    "V_stats = zeros(chains)\n",
    "for c in 1:chains\n",
    "    println(\"Run \", c, \" of \", chains)\n",
    "    T = T1 \n",
    "    for _ in 1:burn_in\n",
    "        T = lumped_burnside_step(T)\n",
    "    end\n",
    "    for _ in 1:samples\n",
    "        T = lumped_burnside_step(T)\n",
    "        if chi_sq_stat(T) < chi_sq_1 \n",
    "            V_stats[c] += 1\n",
    "        end\n",
    "    end\n",
    "end"
   ]
  },
  {
   "cell_type": "code",
   "execution_count": 4,
   "metadata": {},
   "outputs": [
    {
     "name": "stdout",
     "output_type": "stream",
     "text": [
      "[0.154514, 0.1534, 0.153183, 0.1534825, 0.1532925]\n",
      "0.1534\n"
     ]
    }
   ],
   "source": [
    "println(V_stats/samples)\n",
    "println(median(V_stats/samples))\n"
   ]
  },
  {
   "cell_type": "code",
   "execution_count": 5,
   "metadata": {},
   "outputs": [
    {
     "name": "stdout",
     "output_type": "stream",
     "text": [
      "Run 1 of 5\n",
      "Run 2 of 5\n",
      "Run 3 of 5\n",
      "Run 4 of 5\n",
      "Run 5 of 5\n"
     ]
    }
   ],
   "source": [
    "samples = 2*10^6\n",
    "burn_in = 10^4\n",
    "chains = 5\n",
    "chi_sq_2 = chi_sq_stat(T2)\n",
    "\n",
    "V_stats_2 = zeros(chains)\n",
    "for c in 1:chains\n",
    "    println(\"Run \", c, \" of \", chains)\n",
    "    T = T2 \n",
    "    for _ in 1:burn_in\n",
    "        T = lumped_burnside_step(T)\n",
    "    end\n",
    "    for _ in 1:samples\n",
    "        T = lumped_burnside_step(T)\n",
    "        if chi_sq_stat(T) < chi_sq_2 \n",
    "            V_stats_2[c] += 1\n",
    "        end\n",
    "    end\n",
    "end"
   ]
  },
  {
   "cell_type": "code",
   "execution_count": 6,
   "metadata": {},
   "outputs": [
    {
     "name": "stdout",
     "output_type": "stream",
     "text": [
      "[1.6e-5, 1.35e-5, 6.0e-6, 8.0e-6, 1.35e-5]\n",
      "1.35e-5\n"
     ]
    }
   ],
   "source": [
    "println(V_stats_2/samples)\n",
    "println(median(V_stats_2/samples))\n"
   ]
  }
 ],
 "metadata": {
  "kernelspec": {
   "display_name": "Julia 1.9.2",
   "language": "julia",
   "name": "julia-1.9"
  },
  "language_info": {
   "file_extension": ".jl",
   "mimetype": "application/julia",
   "name": "julia",
   "version": "1.9.2"
  }
 },
 "nbformat": 4,
 "nbformat_minor": 2
}

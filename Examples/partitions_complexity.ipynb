{
 "cells": [
  {
   "cell_type": "code",
   "execution_count": null,
   "metadata": {},
   "outputs": [
    {
     "data": {
      "text/plain": [
       "TaskLocalRNG()"
      ]
     },
     "metadata": {},
     "output_type": "display_data"
    }
   ],
   "source": [
    "include(\"../partitions.jl\")\n",
    "using ProgressMeter, Dates, Plots, SparseArrays, Statistics\n",
    "Random.seed!(2025)"
   ]
  },
  {
   "cell_type": "code",
   "execution_count": 2,
   "metadata": {},
   "outputs": [
    {
     "name": "stderr",
     "output_type": "stream",
     "text": [
      "\u001b[32mProgress: 100%|█████████████████████████████████████████| Time: 0:06:13\u001b[39m\u001b[K\n"
     ]
    }
   ],
   "source": [
    "ks = 10:18\n",
    "ns = 2 .^ks\n",
    "burn_in = 200\n",
    "reps = 10000\n",
    "times_lumped = zeros(length(ks))\n",
    "times_reflected = zeros(length(ks))\n",
    "times_unlumped = zeros(length(ks))\n",
    "@showprogress for i in 1:length(ks)\n",
    "    a = spzeros(Integer, ns[i])\n",
    "    a[1] = ns[i] \n",
    "    for _ in 1:burn_in\n",
    "        a = reflected_burnside_step(a)\n",
    "    end\n",
    "    start = now()\n",
    "    for _ in 1:reps\n",
    "        a = lumped_burnside_step(a)\n",
    "    end\n",
    "    finish = now()\n",
    "    times_lumped[i] = (finish - start).value/1e3\n",
    "\n",
    "    a = spzeros(Integer, ns[i])\n",
    "    a[1] = ns[i] \n",
    "    for _ in 1:burn_in\n",
    "        a = reflected_burnside_step(a)\n",
    "    end\n",
    "    start = now()\n",
    "    for _ in 1:reps\n",
    "        a = reflected_burnside_step(a)\n",
    "    end\n",
    "    finish = now()\n",
    "    times_reflected[i] = (finish - start).value/1e3\n",
    "\n",
    "    a = spzeros(Integer, ns[i])\n",
    "    a[1] = ns[i] \n",
    "    for _ in 1:burn_in\n",
    "        a = reflected_burnside_step(a)\n",
    "    end\n",
    "    sigma = partition_to_permuation(a)\n",
    "    start = now()\n",
    "    for _ in 1:reps\n",
    "        sigma = unlumped_burnside_step(sigma)\n",
    "    end\n",
    "    finish = now()\n",
    "    times_unlumped[i] = (finish - start).value/1e3\n",
    "end\n",
    "\n",
    "\n",
    "    \n",
    "    "
   ]
  },
  {
   "cell_type": "code",
   "execution_count": null,
   "metadata": {},
   "outputs": [
    {
     "data": {
      "text/plain": [
       "\"c:\\\\Users\\\\micha\\\\OneDrive\\\\Documents\\\\PhD\\\\Julia_Test\\\\partition_times.pdf\""
      ]
     },
     "metadata": {},
     "output_type": "display_data"
    }
   ],
   "source": [
    "x = log2.(ns)\n",
    "y1 = log2.(times_lumped)\n",
    "y2 = log2.(times_reflected)\n",
    "y3 = log2.(times_unlumped)\n",
    "b1 = 0.5\n",
    "b2 = 0.5\n",
    "b3 = 1\n",
    "a1 = mean(y1) - b1*mean(x)\n",
    "a2 = mean(y2) - b2*mean(x)\n",
    "a3 = mean(y3) - b3*mean(x)\n",
    "\n",
    "fit1 = 2 .^(a1 .+ b1 .* x)\n",
    "fit2 = 2 .^(a2 .+ b2 .* x)\n",
    "fit3 = 2 .^(a3 .+ b3 .* x)\n",
    "\n",
    "plot(ns, fit1, label = nothing, lw = 2, linestyle = :dot, color =:blue, xscale =:log2, yscale =:log2, legend =:topleft)\n",
    "plot!(ns, fit2, label = nothing, lw = 2, linestyle = :dot, color =:orange)\n",
    "plot!(ns, fit3, label = nothing, lw = 2, linestyle = :dot, color =:green)\n",
    "\n",
    "# Add scatter plots\n",
    "scatter!(ns, times_lumped, label = \"Lumped Burnside\", marker = (:circle, 5), color = :blue)\n",
    "scatter!(ns, times_reflected, label = \"Reflected Burnside\", marker = (:diamond, 5), color = :orange)\n",
    "scatter!(ns, times_unlumped, label = \"Burnside\", marker = (:square, 4), color = :green)\n",
    "\n",
    "# Customize the plot\n",
    "xlabel!(\"n\")\n",
    "ylabel!(\"Time (seconds)\")\n",
    "\n"
   ]
  }
 ],
 "metadata": {
  "kernelspec": {
   "display_name": "Julia 1.9.2",
   "language": "julia",
   "name": "julia-1.9"
  },
  "language_info": {
   "file_extension": ".jl",
   "mimetype": "application/julia",
   "name": "julia",
   "version": "1.9.2"
  }
 },
 "nbformat": 4,
 "nbformat_minor": 2
}

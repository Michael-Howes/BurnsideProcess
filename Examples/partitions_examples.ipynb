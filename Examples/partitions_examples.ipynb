{
 "cells": [
  {
   "cell_type": "code",
   "execution_count": 1,
   "metadata": {},
   "outputs": [
    {
     "data": {
      "text/plain": [
       "TaskLocalRNG()"
      ]
     },
     "metadata": {},
     "output_type": "display_data"
    }
   ],
   "source": [
    "include(\"../partitions.jl\")\n",
    "using ProgressMeter, Plots, Statistics, Distributions\n",
    "Random.seed!(2025)"
   ]
  },
  {
   "cell_type": "code",
   "execution_count": 2,
   "metadata": {},
   "outputs": [
    {
     "data": {
      "text/plain": [
       "10000×100000 SparseMatrixCSC{Integer, Int64} with 7777124 stored entries:\n",
       "⎡⠛⠛⠛⠛⠛⠛⠛⠛⠛⠛⠛⠛⠛⠛⠛⠛⠛⠛⠛⠛⠛⠛⠛⠛⠛⠛⠛⠛⠛⠛⠛⠛⠛⠛⠛⠛⠛⠛⠛⠛⎤\n",
       "⎣⠀⠀⠀⠀⠀⠀⠀⠀⠀⠀⠀⠀⠀⠀⠀⠀⠀⠀⠀⠀⠀⠀⠀⠀⠀⠀⠀⠀⠀⠀⠀⠀⠀⠀⠀⠀⠀⠀⠀⠀⎦"
      ]
     },
     "metadata": {},
     "output_type": "display_data"
    }
   ],
   "source": [
    "k = 4\n",
    "n = 10^k\n",
    "reps = 10^5\n",
    "steps = 20\n",
    "partitions = reflected_burnside_sample(n, steps, reps)"
   ]
  },
  {
   "cell_type": "code",
   "execution_count": 3,
   "metadata": {},
   "outputs": [
    {
     "data": {
      "text/plain": [
       "100000-element Vector{Int64}:\n",
       "  22\n",
       "  42\n",
       "  28\n",
       " 173\n",
       "  39\n",
       "  48\n",
       "  18\n",
       "   7\n",
       "  61\n",
       " 163\n",
       "   ⋮\n",
       "  32\n",
       "  13\n",
       "   1\n",
       "  92\n",
       "  73\n",
       "  49\n",
       "  78\n",
       "  16\n",
       "  71"
      ]
     },
     "metadata": {},
     "output_type": "display_data"
    }
   ],
   "source": [
    "parts = [num_parts(partitions[:,i]) for i in 1:reps]\n",
    "ones = [num_ls(partitions[:,i], 1) for i in 1:reps]\n"
   ]
  },
  {
   "cell_type": "code",
   "execution_count": null,
   "metadata": {},
   "outputs": [
    {
     "data": {
      "text/plain": [
       "\"c:\\\\Users\\\\micha\\\\OneDrive\\\\Documents\\\\GitHub\\\\BurnsideProcess\\\\Figures\\\\ones_10000.pdf\""
      ]
     },
     "metadata": {},
     "output_type": "display_data"
    }
   ],
   "source": [
    "mu = sqrt(6*n)/pi \n",
    "hist = histogram(ones, normalize=true, label = \"Reflected Burnside (n = 10^$k)\", color = :orange, bins =:scott)\n",
    "exp_density(x) = exp.(-x./mu)./mu\n",
    "max_one = maximum(ones)\n",
    "xs = 0:max_one\n",
    "plot!(hist, xs, exp_density(xs),color =:black, linewidth=2.5, label = \"Exponential\")\n",
    "xlabel!(hist, \"Number of ones\")\n",
    "ylabel!(hist, \"Frequency\")"
   ]
  },
  {
   "cell_type": "code",
   "execution_count": null,
   "metadata": {},
   "outputs": [
    {
     "data": {
      "text/plain": [
       "\"c:\\\\Users\\\\micha\\\\OneDrive\\\\Documents\\\\GitHub\\\\BurnsideProcess\\\\Figures\\\\parts_10000.pdf\""
      ]
     },
     "metadata": {},
     "output_type": "display_data"
    }
   ],
   "source": [
    "scale = sqrt(6*n)/pi \n",
    "loc = log(sqrt(6*n)/pi)*scale\n",
    "\n",
    "hist = histogram(parts, normalize=true, label = \"Reflected Burnside (n = 10^$k)\", color =:orange, bins =:scott)\n",
    "gumble_cdf(x) = exp.(.-(x.-loc)./scale .- exp.(.-(x.-loc)./scale))./scale\n",
    "plot!(hist, gumble_cdf, color =:black, linewidth=2.5, label = \"Gumble\")\n",
    "xlabel!(hist, \"Number of parts\")\n",
    "ylabel!(hist, \"Frequency\")"
   ]
  },
  {
   "cell_type": "code",
   "execution_count": 6,
   "metadata": {},
   "outputs": [
    {
     "data": {
      "text/plain": [
       "1000000×100000 SparseMatrixCSC{Integer, Int64} with 77947796 stored entries:\n",
       "⎡⠛⠛⠛⠛⎤\n",
       "⎢⠀⠀⠀⠀⎥\n",
       "⎢⠀⠀⠀⠀⎥\n",
       "⎢⠀⠀⠀⠀⎥\n",
       "⎢⠀⠀⠀⠀⎥\n",
       "⎢⠀⠀⠀⠀⎥\n",
       "⎢⠀⠀⠀⠀⎥\n",
       "⎢⠀⠀⠀⠀⎥\n",
       "⎢⠀⠀⠀⠀⎥\n",
       "⎢⠀⠀⠀⠀⎥\n",
       "⎢⠀⠀⠀⠀⎥\n",
       "⎢⠀⠀⠀⠀⎥\n",
       "⎢⠀⠀⠀⠀⎥\n",
       "⎢⠀⠀⠀⠀⎥\n",
       "⎢⠀⠀⠀⠀⎥\n",
       "⎢⠀⠀⠀⠀⎥\n",
       "⎢⠀⠀⠀⠀⎥\n",
       "⎢⠀⠀⠀⠀⎥\n",
       "⎢⠀⠀⠀⠀⎥\n",
       "⎣⠀⠀⠀⠀⎦"
      ]
     },
     "metadata": {},
     "output_type": "display_data"
    }
   ],
   "source": [
    "k = 6\n",
    "n = 10^k\n",
    "reps = 10^5\n",
    "steps = 20\n",
    "partitions = reflected_burnside_sample(n, steps, reps)"
   ]
  },
  {
   "cell_type": "code",
   "execution_count": 7,
   "metadata": {},
   "outputs": [
    {
     "data": {
      "text/plain": [
       "100000-element Vector{Int64}:\n",
       "   14\n",
       "  443\n",
       " 2201\n",
       "  393\n",
       "  344\n",
       "  681\n",
       "   19\n",
       "  432\n",
       "  812\n",
       "  843\n",
       "    ⋮\n",
       "  956\n",
       "  814\n",
       "  257\n",
       "  177\n",
       " 2126\n",
       "   46\n",
       "  811\n",
       " 3688\n",
       " 2227"
      ]
     },
     "metadata": {},
     "output_type": "display_data"
    }
   ],
   "source": [
    "parts = [num_parts(partitions[:,i]) for i in 1:reps]\n",
    "ones = [num_ls(partitions[:,i], 1) for i in 1:reps]\n"
   ]
  },
  {
   "cell_type": "code",
   "execution_count": null,
   "metadata": {},
   "outputs": [
    {
     "data": {
      "text/plain": [
       "\"c:\\\\Users\\\\micha\\\\OneDrive\\\\Documents\\\\GitHub\\\\BurnsideProcess\\\\Figures\\\\ones_1000000.pdf\""
      ]
     },
     "metadata": {},
     "output_type": "display_data"
    }
   ],
   "source": [
    "mu = sqrt(6*n)/pi \n",
    "hist = histogram(ones, normalize=true, label = \"Reflected Burnside (n = 10^$k)\", color = :orange, bins =:scott)\n",
    "exp_density(x) = exp.(-x./mu)./mu\n",
    "max_one = maximum(ones)\n",
    "xs = 0:max_one\n",
    "plot!(hist, xs, exp_density(xs),color =:black, linewidth=2.5, label = \"Exponential\")\n",
    "xlabel!(hist, \"Number of ones\")\n",
    "ylabel!(hist, \"Frequency\")"
   ]
  },
  {
   "cell_type": "code",
   "execution_count": null,
   "metadata": {},
   "outputs": [
    {
     "data": {
      "text/plain": [
       "\"c:\\\\Users\\\\micha\\\\OneDrive\\\\Documents\\\\GitHub\\\\BurnsideProcess\\\\Figures\\\\parts_1000000.pdf\""
      ]
     },
     "metadata": {},
     "output_type": "display_data"
    }
   ],
   "source": [
    "scale = sqrt(6*n)/pi \n",
    "loc = log(sqrt(6*n)/pi)*scale\n",
    "\n",
    "hist = histogram(parts, normalize=true, label = \"Reflected Burnside (n = 10^$k)\", color =:orange, bins =:scott)\n",
    "gumble_cdf(x) = exp.(.-(x.-loc)./scale .- exp.(.-(x.-loc)./scale))./scale\n",
    "plot!(hist, gumble_cdf, color =:black, linewidth=2.5, label = \"Gumble\")\n",
    "xlabel!(hist, \"Number of parts\")\n",
    "ylabel!(hist, \"Frequency\")"
   ]
  }
 ],
 "metadata": {
  "kernelspec": {
   "display_name": "Julia 1.9.2",
   "language": "julia",
   "name": "julia-1.9"
  },
  "language_info": {
   "file_extension": ".jl",
   "mimetype": "application/julia",
   "name": "julia",
   "version": "1.9.2"
  }
 },
 "nbformat": 4,
 "nbformat_minor": 2
}

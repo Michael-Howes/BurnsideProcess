{
 "cells": [
  {
   "cell_type": "code",
   "execution_count": 48,
   "metadata": {},
   "outputs": [
    {
     "data": {
      "text/plain": [
       "TaskLocalRNG()"
      ]
     },
     "metadata": {},
     "output_type": "display_data"
    }
   ],
   "source": [
    "include(\"../partitions.jl\")\n",
    "using ProgressMeter, Plots, Statistics, Distributions\n",
    "Random.seed!(2025)"
   ]
  },
  {
   "cell_type": "code",
   "execution_count": null,
   "metadata": {},
   "outputs": [],
   "source": [
    "k = 4\n",
    "n = 10^k\n",
    "reps = 10^5\n",
    "steps = 10\n",
    "partitions = reflected_burnside_sample(n, steps, reps)"
   ]
  },
  {
   "cell_type": "code",
   "execution_count": null,
   "metadata": {},
   "outputs": [],
   "source": [
    "parts = [num_parts(partitions[:,i]) for i in 1:reps]\n",
    "ones = [num_ls(partitions[:,i], 1) for i in 1:reps]\n",
    "largest = [largest_part(partitions[:,i]) for i in 1:reps]\n"
   ]
  },
  {
   "cell_type": "code",
   "execution_count": null,
   "metadata": {},
   "outputs": [],
   "source": [
    "mu = sqrt(6*n)/pi \n",
    "hist = histogram(ones, normalize=true, label = \"Reflected Burnside (n = 10^$k)\")\n",
    "exp_density(x) = exp.(-x./mu)./mu\n",
    "max_one = maximum(ones)\n",
    "xs = 0:max_one\n",
    "plot!(hist, xs, exp_density(xs),color =:black, linewidth=2, label = \"Exponential\")\n",
    "xlabel!(hist, \"Number of ones\")\n",
    "ylabel!(hist, \"Frequency\")"
   ]
  },
  {
   "cell_type": "code",
   "execution_count": null,
   "metadata": {},
   "outputs": [],
   "source": [
    "scale = sqrt(6*n)/pi \n",
    "loc = log(sqrt(6*n)/pi)*scale\n",
    "\n",
    "hist = histogram(parts, normalize=true, label = \"Reflected Burnside (n = 10^$k)\")\n",
    "gumble_cdf(x) = exp.(.-(x.-loc)./scale .- exp.(.-(x.-loc)./scale))./scale\n",
    "plot!(hist, gumble_cdf, color =:black, linewidth=2, label = \"Gumble\")\n",
    "xlabel!(hist, \"Number of parts\")\n",
    "ylabel!(hist, \"Frequency\")"
   ]
  },
  {
   "cell_type": "code",
   "execution_count": null,
   "metadata": {},
   "outputs": [],
   "source": [
    "scale = sqrt(6*n)/pi \n",
    "loc = log(sqrt(6*n)/pi)*scale\n",
    "\n",
    "hist = histogram(largest, normalize=true, label = \"Reflected Burnside (n = 10$^k)\")\n",
    "gumble_cdf(x) = exp.(.-(x.-loc)./scale .- exp.(.-(x.-loc)./scale))./scale\n",
    "plot!(hist, gumble_cdf, color =:black, linewidth=2, label = \"Gumble\")\n",
    "xlabel!(hist, \"Largest Part\")\n",
    "ylabel!(hist, \"Frequency\")"
   ]
  },
  {
   "cell_type": "code",
   "execution_count": null,
   "metadata": {},
   "outputs": [],
   "source": [
    "k = 6\n",
    "n = 10^k\n",
    "reps = 10^5\n",
    "steps = 20\n",
    "partitions = reflected_burnside_sample(n, steps, reps)"
   ]
  },
  {
   "cell_type": "code",
   "execution_count": null,
   "metadata": {},
   "outputs": [],
   "source": [
    "parts = [num_parts(partitions[:,i]) for i in 1:reps]\n",
    "ones = [num_ls(partitions[:,i], 1) for i in 1:reps]\n",
    "largest = [largest_part(partitions[:,i]) for i in 1:reps]\n"
   ]
  },
  {
   "cell_type": "code",
   "execution_count": null,
   "metadata": {},
   "outputs": [],
   "source": [
    "mu = sqrt(6*n)/pi \n",
    "hist = histogram(ones, normalize=true, label = \"Reflected Burnside (n = 10^$k)\")\n",
    "exp_density(x) = exp.(-x./mu)./mu\n",
    "max_one = maximum(ones)\n",
    "xs = 0:max_one\n",
    "plot!(hist, xs, exp_density(xs),color =:black, linewidth=2, label = \"Exponential\")\n",
    "xlabel!(hist, \"Number of ones\")\n",
    "ylabel!(hist, \"Frequency\")"
   ]
  },
  {
   "cell_type": "code",
   "execution_count": null,
   "metadata": {},
   "outputs": [],
   "source": [
    "scale = sqrt(6*n)/pi \n",
    "loc = log(sqrt(6*n)/pi)*scale\n",
    "\n",
    "hist = histogram(parts, normalize=true, label = \"Reflected Burnside (n = 10^$k)\")\n",
    "gumble_cdf(x) = exp.(.-(x.-loc)./scale .- exp.(.-(x.-loc)./scale))./scale\n",
    "plot!(hist, gumble_cdf, color =:black, linewidth=2, label = \"Gumble\")\n",
    "xlabel!(hist, \"Number of parts\")\n",
    "ylabel!(hist, \"Frequency\")"
   ]
  },
  {
   "cell_type": "code",
   "execution_count": null,
   "metadata": {},
   "outputs": [],
   "source": [
    "scale = sqrt(6*n)/pi \n",
    "loc = log(sqrt(6*n)/pi)*scale\n",
    "\n",
    "hist = histogram(largest, normalize=true, label = \"Reflected Burnside (n = 10$^k)\")\n",
    "gumble_cdf(x) = exp.(.-(x.-loc)./scale .- exp.(.-(x.-loc)./scale))./scale\n",
    "plot!(hist, gumble_cdf, color =:black, linewidth=2, label = \"Gumble\")\n",
    "xlabel!(hist, \"Largest Part\")\n",
    "ylabel!(hist, \"Frequency\")"
   ]
  }
 ],
 "metadata": {
  "kernelspec": {
   "display_name": "Julia 1.9.2",
   "language": "julia",
   "name": "julia-1.9"
  },
  "language_info": {
   "file_extension": ".jl",
   "mimetype": "application/julia",
   "name": "julia",
   "version": "1.9.2"
  }
 },
 "nbformat": 4,
 "nbformat_minor": 2
}
